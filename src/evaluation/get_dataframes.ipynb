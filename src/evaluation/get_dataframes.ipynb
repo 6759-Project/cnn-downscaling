{
 "cells": [
  {
   "cell_type": "code",
   "execution_count": 85,
   "id": "263a097c-6227-4ace-9bef-a048d971579c",
   "metadata": {},
   "outputs": [
    {
     "name": "stdout",
     "output_type": "stream",
     "text": [
      "/home/hemanth/cnn-downscaling/src\n"
     ]
    }
   ],
   "source": [
    "cd /home/hemanth/cnn-downscaling/src/"
   ]
  },
  {
   "cell_type": "code",
   "execution_count": 86,
   "id": "88a6e650-3c32-4b5c-80eb-2c1d2c2afcb1",
   "metadata": {},
   "outputs": [
    {
     "name": "stdout",
     "output_type": "stream",
     "text": [
      "The autoreload extension is already loaded. To reload it, use:\n",
      "  %reload_ext autoreload\n"
     ]
    }
   ],
   "source": [
    "%load_ext autoreload\n",
    "%autoreload 2"
   ]
  },
  {
   "cell_type": "code",
   "execution_count": 87,
   "id": "19a0df98-3dbd-4d60-bea8-5a7e78301f32",
   "metadata": {},
   "outputs": [],
   "source": [
    "import numpy as np\n",
    "import pandas as pd\n",
    "import os\n",
    "import matplotlib.pyplot as plt\n",
    "from mpl_toolkits.basemap import Basemap, cm\n",
    "import seaborn as sns\n",
    "\n",
    "import torch\n",
    "import torch.nn.functional as F\n",
    "\n",
    "from training.data import WeatherBenchSuperresolutionDataModule\n",
    "from training.models import LitSuperresolutionModelWrapper"
   ]
  },
  {
   "cell_type": "code",
   "execution_count": 88,
   "id": "4574d794-8650-4319-a479-5508a6d0160e",
   "metadata": {},
   "outputs": [],
   "source": [
    "plt.style.use('seaborn-pastel')\n",
    "sns.set_style(\"ticks\")"
   ]
  },
  {
   "cell_type": "markdown",
   "id": "ae3bde9a-0b45-4539-b9ca-83c410f5c569",
   "metadata": {},
   "source": [
    "# CNN Saving the eval metrics Dataframe"
   ]
  },
  {
   "cell_type": "code",
   "execution_count": 133,
   "id": "c99cd121-e63c-437f-b4a8-bab8d13c7893",
   "metadata": {},
   "outputs": [],
   "source": [
    "best_ckpt = \"/home/hemanth/cnn-downscaling/src/evaluation/cnn-pr-scaled.ckpt\""
   ]
  },
  {
   "cell_type": "code",
   "execution_count": 134,
   "id": "2b085bc0-e01c-4ac2-b0dc-03e647633572",
   "metadata": {},
   "outputs": [],
   "source": [
    "DATA_DIR = \"/home/hemanth/downscale/generative-downscaling/data/processed/temp/\"\n",
    "COARSE_SUB_DIR = \"5625/temp_5625_processed.zarr\"  # 5.625 degrees\n",
    "FINE_SUB_DIR = \"1406/temp_1406_processed.zarr\"  # 1.402 degrees"
   ]
  },
  {
   "cell_type": "code",
   "execution_count": 135,
   "id": "890f16b3-fd03-480c-8597-b0197fd9e44c",
   "metadata": {},
   "outputs": [],
   "source": [
    "data_module = WeatherBenchSuperresolutionDataModule(\n",
    "    coarse_dir = os.path.join(DATA_DIR, COARSE_SUB_DIR),\n",
    "    fine_dir = os.path.join(DATA_DIR, FINE_SUB_DIR),\n",
    "    batch_size = 1461  # length of test set\n",
    ")\n",
    "\n",
    "data_module.setup(stage=None)\n",
    "\n",
    "test_dataloader = data_module.test_dataloader()\n",
    "coarse_test, fine_test = iter(test_dataloader).next()\n",
    "\n",
    "del test_dataloader"
   ]
  },
  {
   "cell_type": "code",
   "execution_count": 136,
   "id": "8b2fcfb3-93d0-4f2f-ade8-3dd3ab536aab",
   "metadata": {},
   "outputs": [
    {
     "data": {
      "text/plain": [
       "LitSuperresolutionModelWrapper(\n",
       "  (model): Sequential(\n",
       "    (0): Conv2d(1, 3, kernel_size=(3, 3), stride=(1, 1), padding=valid)\n",
       "    (1): ReLU()\n",
       "    (2): Conv2d(3, 5, kernel_size=(3, 3), stride=(1, 1), padding=valid)\n",
       "    (3): ReLU()\n",
       "    (4): Conv2d(5, 13, kernel_size=(3, 3), stride=(1, 1), padding=valid)\n",
       "    (5): ReLU()\n",
       "    (6): Conv2d(13, 55, kernel_size=(3, 3), stride=(1, 1), padding=valid)\n",
       "    (7): ReLU()\n",
       "    (8): Conv2d(55, 21, kernel_size=(3, 3), stride=(1, 1), padding=valid)\n",
       "    (9): ReLU()\n",
       "    (10): Flatten(start_dim=1, end_dim=-1)\n",
       "    (11): Linear(in_features=1344, out_features=398, bias=True)\n",
       "    (12): Linear(in_features=398, out_features=4096, bias=True)\n",
       "    (13): Unflatten(dim=1, unflattened_size=(64, 64))\n",
       "  )\n",
       "  (loss): MSELoss()\n",
       ")"
      ]
     },
     "execution_count": 136,
     "metadata": {},
     "output_type": "execute_result"
    }
   ],
   "source": [
    "import zarr\n",
    "model = LitSuperresolutionModelWrapper.load_from_checkpoint(best_ckpt)\n",
    "model.eval()"
   ]
  },
  {
   "cell_type": "code",
   "execution_count": 137,
   "id": "5f554f96-610f-4618-b987-4a823beefcd8",
   "metadata": {},
   "outputs": [
    {
     "data": {
      "text/plain": [
       "torch.Size([1461, 64, 64])"
      ]
     },
     "execution_count": 137,
     "metadata": {},
     "output_type": "execute_result"
    }
   ],
   "source": [
    "preds_test = model(coarse_test)\n",
    "preds_test.shape"
   ]
  },
  {
   "cell_type": "code",
   "execution_count": 138,
   "id": "2c4c6dd5-aa8b-4d41-8fd6-702e6fb09ddd",
   "metadata": {},
   "outputs": [],
   "source": [
    "torch.set_grad_enabled(False);"
   ]
  },
  {
   "cell_type": "code",
   "execution_count": 139,
   "id": "4cd9f4b5-f3ff-4584-95d8-da97fb109901",
   "metadata": {},
   "outputs": [],
   "source": [
    "train_dates, val_dates, test_dates = data_module.split_date_ranges"
   ]
  },
  {
   "cell_type": "code",
   "execution_count": 140,
   "id": "74d495a2-71f6-4ef6-b535-756d8a06f54e",
   "metadata": {},
   "outputs": [],
   "source": [
    "std = torch.from_numpy(data_module.daily_std['std'].values[-1461:]).view(1461,1,1)"
   ]
  },
  {
   "cell_type": "code",
   "execution_count": 141,
   "id": "30abaae1-ba14-411a-9a02-99511f466523",
   "metadata": {},
   "outputs": [],
   "source": [
    "mean = torch.from_numpy(data_module.daily_means['mean'].values[-1461:]).view(1461,1,1)"
   ]
  },
  {
   "cell_type": "code",
   "execution_count": 153,
   "id": "729d9ecd-8e70-4b86-bfec-e66f2d98423d",
   "metadata": {},
   "outputs": [
    {
     "data": {
      "text/plain": [
       "tensor(1.8556, dtype=torch.float64)"
      ]
     },
     "execution_count": 153,
     "metadata": {},
     "output_type": "execute_result"
    }
   ],
   "source": [
    "preds_test_unscaled = preds_test * std + mean\n",
    "fine_test_unscaled = fine_test * std + mean\n",
    "daily_mses = torch.mean((preds_test_unscaled - fine_test_unscaled)**2, dim=(1,2))\n",
    "mse = F.mse_loss(preds_test_unscaled, fine_test_unscaled)\n",
    "mse  # aligns with https://wandb.ai/6759-proj/cnn/runs/1uyqum0l"
   ]
  },
  {
   "cell_type": "code",
   "execution_count": 151,
   "id": "e9eab017-b721-4abf-9c80-09f74d89577f",
   "metadata": {},
   "outputs": [
    {
     "data": {
      "text/plain": [
       "(tensor(0.8333, dtype=torch.float64),\n",
       " tensor(1.8556, dtype=torch.float64),\n",
       " tensor(4.0361, dtype=torch.float64),\n",
       " tensor(0.5117, dtype=torch.float64))"
      ]
     },
     "execution_count": 151,
     "metadata": {},
     "output_type": "execute_result"
    }
   ],
   "source": [
    "daily_mses.min(),daily_mses.mean(),daily_mses.max(),daily_mses.std()"
   ]
  },
  {
   "cell_type": "code",
   "execution_count": 154,
   "id": "443aa2e7-7f65-4d48-a212-df519c024014",
   "metadata": {},
   "outputs": [
    {
     "data": {
      "text/plain": [
       "tensor(1.8556, dtype=torch.float64)"
      ]
     },
     "execution_count": 154,
     "metadata": {},
     "output_type": "execute_result"
    }
   ],
   "source": [
    "#daily_mses = torch.mean((preds_test - fine_test)**2, dim=(1,2))\n",
    "torch.mean(daily_mses)  # reproduces what's on W&B"
   ]
  },
  {
   "cell_type": "code",
   "execution_count": 155,
   "id": "dbc966c0-00e2-4c4b-b8d8-986a21760993",
   "metadata": {},
   "outputs": [
    {
     "name": "stdout",
     "output_type": "stream",
     "text": [
      "tensor(0.9891, dtype=torch.float64) tensor(0.9960, dtype=torch.float64) tensor(0.9983, dtype=torch.float64)\n"
     ]
    }
   ],
   "source": [
    "pred_demeaned = (preds_test_unscaled - preds_test_unscaled.mean(axis=(1,2), keepdims=True))\n",
    "true_demeaned = (fine_test_unscaled - fine_test_unscaled.mean(axis=(1,2), keepdims=True))\n",
    "\n",
    "daily_corrs = \\\n",
    "    torch.sum(pred_demeaned*true_demeaned, axis=(1,2)) / \\\n",
    "    (torch.sqrt(torch.sum(pred_demeaned ** 2, axis=(1,2))) * torch.sqrt(torch.sum(true_demeaned ** 2, axis=(1,2))))\n",
    "\n",
    "del pred_demeaned, true_demeaned\n",
    "\n",
    "print(daily_corrs.min(), daily_corrs.mean(), daily_corrs.max())"
   ]
  },
  {
   "cell_type": "code",
   "execution_count": 156,
   "id": "74567084-af13-4355-9fbf-7bba0054ac5b",
   "metadata": {},
   "outputs": [],
   "source": [
    "train_dates, val_dates, test_dates = data_module.split_date_ranges"
   ]
  },
  {
   "cell_type": "code",
   "execution_count": 157,
   "id": "22c559d4-84e2-4060-beb1-e5643c366b1c",
   "metadata": {},
   "outputs": [],
   "source": [
    "test_pdf = pd.DataFrame(\n",
    "    fine_test.flatten(),\n",
    "    index=data_module.fine.loc[test_dates[0]:test_dates[-1]].index,\n",
    "    columns=[\"temp_true\"]\n",
    ")\n",
    "test_pdf[\"temp_pred\"] = preds_test.flatten()"
   ]
  },
  {
   "cell_type": "code",
   "execution_count": null,
   "id": "e4ffe47a-e433-4a96-b32a-8b30678fdb40",
   "metadata": {},
   "outputs": [],
   "source": []
  },
  {
   "cell_type": "code",
   "execution_count": 158,
   "id": "537726e0-1950-4096-859b-48162dbb0875",
   "metadata": {},
   "outputs": [],
   "source": [
    "test_pdf_unscaled = \\\n",
    "    test_pdf.join(data_module.daily_means).join(data_module.daily_std)\n",
    "\n",
    "test_pdf_unscaled['temp_true'] = \\\n",
    "    test_pdf_unscaled['temp_true'] * test_pdf_unscaled['std'] + \\\n",
    "    test_pdf_unscaled['mean']\n",
    "\n",
    "test_pdf_unscaled['temp_pred'] = \\\n",
    "    test_pdf_unscaled['temp_pred'] * test_pdf_unscaled['std'] + \\\n",
    "    test_pdf_unscaled['mean']\n",
    "\n",
    "del test_pdf_unscaled['mean']\n",
    "del test_pdf_unscaled['std']"
   ]
  },
  {
   "cell_type": "code",
   "execution_count": 159,
   "id": "0bc18c39-0250-4643-89b9-7f027e97ae67",
   "metadata": {},
   "outputs": [],
   "source": [
    "def q02(ser):\n",
    "    return ser.quantile(.02)\n",
    "\n",
    "def q98(ser):\n",
    "    return ser.quantile(.98)\n",
    "\n",
    "test_biases = test_pdf_unscaled.groupby(\n",
    "    [test_pdf_unscaled.index.get_level_values(\"date\")]\n",
    ").agg(['mean', q02, q98])"
   ]
  },
  {
   "cell_type": "code",
   "execution_count": 160,
   "id": "93a4ca67-f72c-49ab-8d4b-c6c30c228263",
   "metadata": {},
   "outputs": [],
   "source": [
    "test_biases['bias_mean'] = test_biases['temp_true']['mean'] - test_biases['temp_pred']['mean']\n",
    "test_biases['bias_q02'] = test_biases['temp_true']['q02'] - test_biases['temp_pred']['q02']\n",
    "test_biases['bias_q98'] = test_biases['temp_true']['q98'] - test_biases['temp_pred']['q98']"
   ]
  },
  {
   "cell_type": "code",
   "execution_count": 161,
   "id": "287ce65f-c703-4587-8f30-fa408b41db1d",
   "metadata": {},
   "outputs": [],
   "source": [
    "test_tx = test_pdf_unscaled.groupby(\n",
    "    [test_pdf.index.get_level_values(\"date\").to_period('M'), \"lat\", \"lon\"]\n",
    ").agg({\n",
    "    \"temp_true\": [np.max, np.min],\n",
    "    \"temp_pred\": [np.max, np.min],\n",
    "})\n",
    "\n",
    "test_tx.columns = [\"true_txx\", \"true_txn\", \"pred_txx\", \"pred_txn\"]"
   ]
  },
  {
   "cell_type": "code",
   "execution_count": 162,
   "id": "79c5b432-9d35-4ac5-a67d-7024402a283f",
   "metadata": {},
   "outputs": [],
   "source": [
    "test_tx[\"bias_txx\"] = test_tx[\"pred_txx\"] - test_tx[\"true_txx\"]\n",
    "test_tx[\"bias_txn\"] = test_tx[\"pred_txn\"] - test_tx[\"true_txn\"]"
   ]
  },
  {
   "cell_type": "code",
   "execution_count": 164,
   "id": "6f43194d-6d12-4974-99ad-e316ed959827",
   "metadata": {},
   "outputs": [],
   "source": [
    "preds_std = torch.std(preds_test_unscaled, dim=(1,2))\n",
    "fine_std = torch.std(fine_test_unscaled, dim=(1,2))"
   ]
  },
  {
   "cell_type": "code",
   "execution_count": 165,
   "id": "2c1339ad-8ffb-4143-8af9-57ef114a9802",
   "metadata": {},
   "outputs": [],
   "source": [
    "daily_stability = preds_std / fine_std"
   ]
  },
  {
   "cell_type": "code",
   "execution_count": 166,
   "id": "001966b6-d59d-4729-972d-6acb28c7e910",
   "metadata": {},
   "outputs": [],
   "source": [
    "train_dates, val_dates, test_dates = data_module.split_date_ranges"
   ]
  },
  {
   "cell_type": "code",
   "execution_count": 167,
   "id": "37ed0b2b-e145-4f83-a6d1-1bb783e1d934",
   "metadata": {},
   "outputs": [],
   "source": [
    "eval_metrics = pd.DataFrame(\n",
    "    {\n",
    "        'mse' : daily_mses,\n",
    "        'corr' : daily_corrs,\n",
    "        'bias_p02' : test_biases['bias_q02'],\n",
    "        'bias_mean' : test_biases['bias_mean'],\n",
    "        'bias_p98' : test_biases['bias_q98'],\n",
    "        'stability' : daily_stability,\n",
    "    },\n",
    "    index = test_dates\n",
    ")"
   ]
  },
  {
   "cell_type": "code",
   "execution_count": 171,
   "id": "28d7168b-abfc-421f-8d5b-f42a832b001b",
   "metadata": {},
   "outputs": [
    {
     "data": {
      "text/html": [
       "<div>\n",
       "<style scoped>\n",
       "    .dataframe tbody tr th:only-of-type {\n",
       "        vertical-align: middle;\n",
       "    }\n",
       "\n",
       "    .dataframe tbody tr th {\n",
       "        vertical-align: top;\n",
       "    }\n",
       "\n",
       "    .dataframe thead th {\n",
       "        text-align: right;\n",
       "    }\n",
       "</style>\n",
       "<table border=\"1\" class=\"dataframe\">\n",
       "  <thead>\n",
       "    <tr style=\"text-align: right;\">\n",
       "      <th></th>\n",
       "      <th>mse</th>\n",
       "      <th>corr</th>\n",
       "      <th>bias_p02</th>\n",
       "      <th>bias_mean</th>\n",
       "      <th>bias_p98</th>\n",
       "      <th>stability</th>\n",
       "    </tr>\n",
       "    <tr>\n",
       "      <th>date</th>\n",
       "      <th></th>\n",
       "      <th></th>\n",
       "      <th></th>\n",
       "      <th></th>\n",
       "      <th></th>\n",
       "      <th></th>\n",
       "    </tr>\n",
       "  </thead>\n",
       "  <tbody>\n",
       "    <tr>\n",
       "      <th>2015-01-01</th>\n",
       "      <td>2.343767</td>\n",
       "      <td>0.997362</td>\n",
       "      <td>-0.226807</td>\n",
       "      <td>-0.075559</td>\n",
       "      <td>0.588721</td>\n",
       "      <td>0.999075</td>\n",
       "    </tr>\n",
       "    <tr>\n",
       "      <th>2015-01-02</th>\n",
       "      <td>2.439498</td>\n",
       "      <td>0.997352</td>\n",
       "      <td>0.005253</td>\n",
       "      <td>-0.056022</td>\n",
       "      <td>0.102429</td>\n",
       "      <td>0.997447</td>\n",
       "    </tr>\n",
       "    <tr>\n",
       "      <th>2015-01-03</th>\n",
       "      <td>2.491835</td>\n",
       "      <td>0.997423</td>\n",
       "      <td>-0.202788</td>\n",
       "      <td>-0.021836</td>\n",
       "      <td>0.654003</td>\n",
       "      <td>0.993647</td>\n",
       "    </tr>\n",
       "    <tr>\n",
       "      <th>2015-01-04</th>\n",
       "      <td>3.108826</td>\n",
       "      <td>0.996944</td>\n",
       "      <td>-0.723762</td>\n",
       "      <td>-0.000792</td>\n",
       "      <td>0.646341</td>\n",
       "      <td>0.987931</td>\n",
       "    </tr>\n",
       "    <tr>\n",
       "      <th>2015-01-05</th>\n",
       "      <td>2.731287</td>\n",
       "      <td>0.997154</td>\n",
       "      <td>-0.819950</td>\n",
       "      <td>-0.083551</td>\n",
       "      <td>0.027258</td>\n",
       "      <td>0.993719</td>\n",
       "    </tr>\n",
       "    <tr>\n",
       "      <th>...</th>\n",
       "      <td>...</td>\n",
       "      <td>...</td>\n",
       "      <td>...</td>\n",
       "      <td>...</td>\n",
       "      <td>...</td>\n",
       "      <td>...</td>\n",
       "    </tr>\n",
       "    <tr>\n",
       "      <th>2018-12-27</th>\n",
       "      <td>2.353531</td>\n",
       "      <td>0.997548</td>\n",
       "      <td>-1.010110</td>\n",
       "      <td>0.028425</td>\n",
       "      <td>0.103964</td>\n",
       "      <td>0.997591</td>\n",
       "    </tr>\n",
       "    <tr>\n",
       "      <th>2018-12-28</th>\n",
       "      <td>3.014554</td>\n",
       "      <td>0.996758</td>\n",
       "      <td>-0.925758</td>\n",
       "      <td>0.105319</td>\n",
       "      <td>0.640835</td>\n",
       "      <td>0.999908</td>\n",
       "    </tr>\n",
       "    <tr>\n",
       "      <th>2018-12-29</th>\n",
       "      <td>4.036123</td>\n",
       "      <td>0.995610</td>\n",
       "      <td>-1.482431</td>\n",
       "      <td>0.010554</td>\n",
       "      <td>0.878647</td>\n",
       "      <td>0.992313</td>\n",
       "    </tr>\n",
       "    <tr>\n",
       "      <th>2018-12-30</th>\n",
       "      <td>3.314630</td>\n",
       "      <td>0.996416</td>\n",
       "      <td>-1.230463</td>\n",
       "      <td>-0.039723</td>\n",
       "      <td>-0.061077</td>\n",
       "      <td>0.996489</td>\n",
       "    </tr>\n",
       "    <tr>\n",
       "      <th>2018-12-31</th>\n",
       "      <td>2.492828</td>\n",
       "      <td>0.997171</td>\n",
       "      <td>-0.443640</td>\n",
       "      <td>0.051942</td>\n",
       "      <td>-0.137319</td>\n",
       "      <td>1.000227</td>\n",
       "    </tr>\n",
       "  </tbody>\n",
       "</table>\n",
       "<p>1461 rows × 6 columns</p>\n",
       "</div>"
      ],
      "text/plain": [
       "                 mse      corr  bias_p02  bias_mean  bias_p98  stability\n",
       "date                                                                    \n",
       "2015-01-01  2.343767  0.997362 -0.226807  -0.075559  0.588721   0.999075\n",
       "2015-01-02  2.439498  0.997352  0.005253  -0.056022  0.102429   0.997447\n",
       "2015-01-03  2.491835  0.997423 -0.202788  -0.021836  0.654003   0.993647\n",
       "2015-01-04  3.108826  0.996944 -0.723762  -0.000792  0.646341   0.987931\n",
       "2015-01-05  2.731287  0.997154 -0.819950  -0.083551  0.027258   0.993719\n",
       "...              ...       ...       ...        ...       ...        ...\n",
       "2018-12-27  2.353531  0.997548 -1.010110   0.028425  0.103964   0.997591\n",
       "2018-12-28  3.014554  0.996758 -0.925758   0.105319  0.640835   0.999908\n",
       "2018-12-29  4.036123  0.995610 -1.482431   0.010554  0.878647   0.992313\n",
       "2018-12-30  3.314630  0.996416 -1.230463  -0.039723 -0.061077   0.996489\n",
       "2018-12-31  2.492828  0.997171 -0.443640   0.051942 -0.137319   1.000227\n",
       "\n",
       "[1461 rows x 6 columns]"
      ]
     },
     "execution_count": 171,
     "metadata": {},
     "output_type": "execute_result"
    }
   ],
   "source": [
    "eval_metrics"
   ]
  },
  {
   "cell_type": "code",
   "execution_count": 172,
   "id": "3567ea20-438b-4090-8f81-cf781c57a9d6",
   "metadata": {},
   "outputs": [],
   "source": [
    "eval_metrics.to_csv('eval_metrics_cnn.csv')"
   ]
  },
  {
   "cell_type": "markdown",
   "id": "a3ce0dfc-d924-49a7-80a2-f24a6d6555de",
   "metadata": {},
   "source": [
    "# Bilinear Interpolation"
   ]
  },
  {
   "cell_type": "code",
   "execution_count": 48,
   "id": "8ab875be-31fe-4017-9d4e-33978633e5de",
   "metadata": {},
   "outputs": [],
   "source": [
    "import zarr"
   ]
  },
  {
   "cell_type": "code",
   "execution_count": 49,
   "id": "4d5953ad-79ef-48a3-a19a-8d711f7479b3",
   "metadata": {},
   "outputs": [],
   "source": [
    "bilinear_true = zarr.load('/home/hemanth/cnn-downscaling/src/evaluation/test_hr_true_bilinearInterpolation.zarr')\n",
    "bilinear_pred = zarr.load('/home/hemanth/cnn-downscaling/src/evaluation/test_hr_pred_bilinearInterpolation.zarr')"
   ]
  },
  {
   "cell_type": "code",
   "execution_count": 54,
   "id": "8ff38dbf-60a2-47d5-a4d5-8a2fb1bcc5cb",
   "metadata": {},
   "outputs": [],
   "source": [
    "bilinear_true = torch.from_numpy(bilinear_true['t2m'])\n",
    "bilinear_pred = torch.from_numpy(bilinear_pred['t2m'])"
   ]
  },
  {
   "cell_type": "code",
   "execution_count": 56,
   "id": "0931f197-bc9f-455d-ae26-35b566c3944e",
   "metadata": {},
   "outputs": [],
   "source": [
    "daily_mses_bl = torch.mean((bilinear_pred - bilinear_true)**2,dim=(1,2))"
   ]
  },
  {
   "cell_type": "code",
   "execution_count": 57,
   "id": "9eba1c80-ef60-4019-b4a3-5c4c8f590ec5",
   "metadata": {},
   "outputs": [
    {
     "data": {
      "text/plain": [
       "(tensor(3.6412, dtype=torch.float64),\n",
       " tensor(12.6106, dtype=torch.float64),\n",
       " tensor(6.4999, dtype=torch.float64))"
      ]
     },
     "execution_count": 57,
     "metadata": {},
     "output_type": "execute_result"
    }
   ],
   "source": [
    "daily_mses_bl.min(),daily_mses_bl.max(),daily_mses_bl.mean()"
   ]
  },
  {
   "cell_type": "code",
   "execution_count": 58,
   "id": "b2e99cfe-edad-4108-8511-b1a4e6e1ca34",
   "metadata": {},
   "outputs": [
    {
     "name": "stdout",
     "output_type": "stream",
     "text": [
      "tensor(0.9328, dtype=torch.float64) tensor(0.9836, dtype=torch.float64) tensor(0.9949, dtype=torch.float64)\n"
     ]
    }
   ],
   "source": [
    "pred_demeaned_bl = (bilinear_pred - bilinear_pred.mean(axis=(1,2),keepdims=True))\n",
    "true_demeaned_bl = (bilinear_true - bilinear_true.mean(axis=(1,2),keepdims=True))\n",
    "\n",
    "daily_corrs_bl =  torch.sum(pred_demeaned_bl*true_demeaned_bl, axis=(1,2)) /(torch.sqrt(torch.sum(pred_demeaned_bl ** 2, axis=(1,2))) * torch.sqrt(torch.sum(true_demeaned_bl ** 2, axis=(1,2))))\n",
    "\n",
    "del pred_demeaned_bl, true_demeaned_bl\n",
    "\n",
    "print(daily_corrs_bl.min(), daily_corrs_bl.mean(), daily_corrs_bl.max())"
   ]
  },
  {
   "cell_type": "code",
   "execution_count": 60,
   "id": "b44033d2-c7d3-4688-9e8f-f3e800c45249",
   "metadata": {},
   "outputs": [],
   "source": [
    "preds_p02_bl = torch.quantile(bilinear_pred.reshape(bilinear_pred.shape[0], -1), dim=1, q=.02)\n",
    "preds_p98_bl = torch.quantile(bilinear_pred.reshape(bilinear_pred.shape[0], -1), dim=1, q=.98)\n",
    "\n",
    "fine_p02_bl = torch.quantile(bilinear_true.reshape(bilinear_pred.shape[0], -1), dim=1, q=.02)\n",
    "fine_p98_bl = torch.quantile(bilinear_true.reshape(bilinear_pred.shape[0], -1), dim=1, q=.98)"
   ]
  },
  {
   "cell_type": "code",
   "execution_count": 61,
   "id": "72eab13b-5ef4-494a-8338-67856eec61bd",
   "metadata": {},
   "outputs": [],
   "source": [
    "daily_biases_mean_bl =  bilinear_pred.mean(axis=(1,2)) - bilinear_true.mean(axis=(1,2))\n",
    "daily_biases_p02_bl = preds_p02_bl - fine_p02_bl\n",
    "daily_biases_p98_bl = preds_p98_bl - fine_p98_bl"
   ]
  },
  {
   "cell_type": "code",
   "execution_count": 62,
   "id": "7453d5dc-0ddd-411c-a6b3-73dba7298e4b",
   "metadata": {},
   "outputs": [
    {
     "data": {
      "text/plain": [
       "tensor(6.4999, dtype=torch.float64)"
      ]
     },
     "execution_count": 62,
     "metadata": {},
     "output_type": "execute_result"
    }
   ],
   "source": [
    "torch.mean(daily_mses_bl)"
   ]
  },
  {
   "cell_type": "code",
   "execution_count": 63,
   "id": "928bdada-11a7-40c7-8b10-51f774a361d1",
   "metadata": {},
   "outputs": [],
   "source": [
    "preds_std_bl = torch.std(bilinear_pred, dim=(1,2))\n",
    "fine_std_bl = torch.std(bilinear_true, dim=(1,2))"
   ]
  },
  {
   "cell_type": "code",
   "execution_count": 64,
   "id": "6c810d63-c42f-48c5-b2e5-bfa0df8b37c7",
   "metadata": {},
   "outputs": [],
   "source": [
    "daily_stability_bl = preds_std_bl/fine_std_bl"
   ]
  },
  {
   "cell_type": "code",
   "execution_count": 65,
   "id": "ceafc5a6-00b6-44a7-a06f-fe6433a2cec6",
   "metadata": {},
   "outputs": [
    {
     "data": {
      "text/plain": [
       "tensor([0.9932, 0.9950, 0.9926,  ..., 0.9844, 0.9849, 0.9915],\n",
       "       dtype=torch.float64)"
      ]
     },
     "execution_count": 65,
     "metadata": {},
     "output_type": "execute_result"
    }
   ],
   "source": [
    "daily_stability_bl"
   ]
  },
  {
   "cell_type": "code",
   "execution_count": 82,
   "id": "5a46a061-702e-4649-b5e9-05f1d8aa3517",
   "metadata": {},
   "outputs": [],
   "source": [
    "eval_metrics_bl = pd.DataFrame(\n",
    "    {\n",
    "        'mse' : daily_mses_bl,\n",
    "        'corr' : daily_corrs_bl,\n",
    "        'bias_p02' : daily_biases_p02_bl,\n",
    "        'bias_mean' : daily_biases_mean_bl,\n",
    "        'bias_p98' : daily_biases_p98_bl,\n",
    "        'stability' : daily_stability_bl,\n",
    "    },\n",
    "    index = test_dates\n",
    ")"
   ]
  },
  {
   "cell_type": "code",
   "execution_count": 83,
   "id": "eebb88c0-3512-4943-b818-65a248ae0464",
   "metadata": {},
   "outputs": [],
   "source": [
    "eval_metrics_bl.to_csv('eval_metrics_bl.csv')"
   ]
  },
  {
   "cell_type": "code",
   "execution_count": null,
   "id": "e4fa8fb7-1e6f-4738-8fd0-259417b5ad9f",
   "metadata": {},
   "outputs": [],
   "source": []
  },
  {
   "cell_type": "code",
   "execution_count": null,
   "id": "44fa0e3d-832c-44b5-ae94-22b06a84e9c5",
   "metadata": {},
   "outputs": [],
   "source": []
  },
  {
   "cell_type": "code",
   "execution_count": null,
   "id": "bd80e9f7-c458-4d88-a7b7-703e41f65b91",
   "metadata": {},
   "outputs": [],
   "source": []
  }
 ],
 "metadata": {
  "kernelspec": {
   "display_name": "Python 3 (ipykernel)",
   "language": "python",
   "name": "python3"
  },
  "language_info": {
   "codemirror_mode": {
    "name": "ipython",
    "version": 3
   },
   "file_extension": ".py",
   "mimetype": "text/x-python",
   "name": "python",
   "nbconvert_exporter": "python",
   "pygments_lexer": "ipython3",
   "version": "3.9.12"
  }
 },
 "nbformat": 4,
 "nbformat_minor": 5
}
