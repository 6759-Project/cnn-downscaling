{
  "nbformat": 4,
  "nbformat_minor": 0,
  "metadata": {
    "colab": {
      "name": "boxplot figures.ipynb",
      "provenance": [],
      "collapsed_sections": []
    },
    "kernelspec": {
      "name": "python3",
      "display_name": "Python 3"
    },
    "language_info": {
      "name": "python"
    }
  },
  "cells": [
    {
      "cell_type": "code",
      "source": [
        "import pandas as pd\n",
        "import matplotlib.pyplot as plt\n",
        "import seaborn as sns"
      ],
      "metadata": {
        "id": "9rPiL7xLiORi"
      },
      "execution_count": 115,
      "outputs": []
    },
    {
      "cell_type": "code",
      "source": [
        "plt.style.use('seaborn-pastel')\n",
        "sns.set_style('ticks')"
      ],
      "metadata": {
        "id": "JhMMhfecXzLi"
      },
      "execution_count": 116,
      "outputs": []
    },
    {
      "cell_type": "code",
      "source": [
        "eval_metrics_cnn = pd.read_csv('/content/eval_metrics_cnn.csv') \n",
        "eval_metrics_bl =  pd.read_csv('/content/eval_metrics_bl.csv')\n",
        "eval_metrics_nf = pd.read_csv('/content/eval_metrics_nf.csv')"
      ],
      "metadata": {
        "id": "bXjhKlwJiXr9"
      },
      "execution_count": 117,
      "outputs": []
    },
    {
      "cell_type": "code",
      "source": [
        "eval_metrics_cnn['model'] = 'CNN'\n",
        "eval_metrics_bl['model'] = 'Bilinear'\n",
        "eval_metrics_nf['model'] = 'Norm Flows'"
      ],
      "metadata": {
        "id": "1DvbC-VJjqhn"
      },
      "execution_count": 118,
      "outputs": []
    },
    {
      "cell_type": "markdown",
      "source": [
        "# Correlation"
      ],
      "metadata": {
        "id": "ka1fp8GajwaO"
      }
    },
    {
      "cell_type": "code",
      "source": [
        "correlation = eval_metrics_cnn[['corr','model']]\n",
        "correlation = correlation.append(eval_metrics_bl[['corr','model']],ignore_index=True)\n",
        "correlation = correlation.append(eval_metrics_nf[['corr','model']],ignore_index=True)"
      ],
      "metadata": {
        "id": "mbml-n2VjxzH"
      },
      "execution_count": 119,
      "outputs": []
    },
    {
      "cell_type": "code",
      "source": [
        "correlation"
      ],
      "metadata": {
        "colab": {
          "base_uri": "https://localhost:8080/",
          "height": 424
        },
        "id": "N-R0NDgAkkp8",
        "outputId": "3c56b74a-29be-42d4-e9ca-22f17deebc86"
      },
      "execution_count": 120,
      "outputs": [
        {
          "output_type": "execute_result",
          "data": {
            "text/plain": [
              "          corr       model\n",
              "0     0.997362         CNN\n",
              "1     0.997352         CNN\n",
              "2     0.997423         CNN\n",
              "3     0.996944         CNN\n",
              "4     0.997154         CNN\n",
              "...        ...         ...\n",
              "4378  0.745391  Norm Flows\n",
              "4379  0.724897  Norm Flows\n",
              "4380  0.714283  Norm Flows\n",
              "4381  0.683188  Norm Flows\n",
              "4382  0.791743  Norm Flows\n",
              "\n",
              "[4383 rows x 2 columns]"
            ],
            "text/html": [
              "\n",
              "  <div id=\"df-7dcc0d20-7da6-4f20-9c1d-3c40eb77786d\">\n",
              "    <div class=\"colab-df-container\">\n",
              "      <div>\n",
              "<style scoped>\n",
              "    .dataframe tbody tr th:only-of-type {\n",
              "        vertical-align: middle;\n",
              "    }\n",
              "\n",
              "    .dataframe tbody tr th {\n",
              "        vertical-align: top;\n",
              "    }\n",
              "\n",
              "    .dataframe thead th {\n",
              "        text-align: right;\n",
              "    }\n",
              "</style>\n",
              "<table border=\"1\" class=\"dataframe\">\n",
              "  <thead>\n",
              "    <tr style=\"text-align: right;\">\n",
              "      <th></th>\n",
              "      <th>corr</th>\n",
              "      <th>model</th>\n",
              "    </tr>\n",
              "  </thead>\n",
              "  <tbody>\n",
              "    <tr>\n",
              "      <th>0</th>\n",
              "      <td>0.997362</td>\n",
              "      <td>CNN</td>\n",
              "    </tr>\n",
              "    <tr>\n",
              "      <th>1</th>\n",
              "      <td>0.997352</td>\n",
              "      <td>CNN</td>\n",
              "    </tr>\n",
              "    <tr>\n",
              "      <th>2</th>\n",
              "      <td>0.997423</td>\n",
              "      <td>CNN</td>\n",
              "    </tr>\n",
              "    <tr>\n",
              "      <th>3</th>\n",
              "      <td>0.996944</td>\n",
              "      <td>CNN</td>\n",
              "    </tr>\n",
              "    <tr>\n",
              "      <th>4</th>\n",
              "      <td>0.997154</td>\n",
              "      <td>CNN</td>\n",
              "    </tr>\n",
              "    <tr>\n",
              "      <th>...</th>\n",
              "      <td>...</td>\n",
              "      <td>...</td>\n",
              "    </tr>\n",
              "    <tr>\n",
              "      <th>4378</th>\n",
              "      <td>0.745391</td>\n",
              "      <td>Norm Flows</td>\n",
              "    </tr>\n",
              "    <tr>\n",
              "      <th>4379</th>\n",
              "      <td>0.724897</td>\n",
              "      <td>Norm Flows</td>\n",
              "    </tr>\n",
              "    <tr>\n",
              "      <th>4380</th>\n",
              "      <td>0.714283</td>\n",
              "      <td>Norm Flows</td>\n",
              "    </tr>\n",
              "    <tr>\n",
              "      <th>4381</th>\n",
              "      <td>0.683188</td>\n",
              "      <td>Norm Flows</td>\n",
              "    </tr>\n",
              "    <tr>\n",
              "      <th>4382</th>\n",
              "      <td>0.791743</td>\n",
              "      <td>Norm Flows</td>\n",
              "    </tr>\n",
              "  </tbody>\n",
              "</table>\n",
              "<p>4383 rows × 2 columns</p>\n",
              "</div>\n",
              "      <button class=\"colab-df-convert\" onclick=\"convertToInteractive('df-7dcc0d20-7da6-4f20-9c1d-3c40eb77786d')\"\n",
              "              title=\"Convert this dataframe to an interactive table.\"\n",
              "              style=\"display:none;\">\n",
              "        \n",
              "  <svg xmlns=\"http://www.w3.org/2000/svg\" height=\"24px\"viewBox=\"0 0 24 24\"\n",
              "       width=\"24px\">\n",
              "    <path d=\"M0 0h24v24H0V0z\" fill=\"none\"/>\n",
              "    <path d=\"M18.56 5.44l.94 2.06.94-2.06 2.06-.94-2.06-.94-.94-2.06-.94 2.06-2.06.94zm-11 1L8.5 8.5l.94-2.06 2.06-.94-2.06-.94L8.5 2.5l-.94 2.06-2.06.94zm10 10l.94 2.06.94-2.06 2.06-.94-2.06-.94-.94-2.06-.94 2.06-2.06.94z\"/><path d=\"M17.41 7.96l-1.37-1.37c-.4-.4-.92-.59-1.43-.59-.52 0-1.04.2-1.43.59L10.3 9.45l-7.72 7.72c-.78.78-.78 2.05 0 2.83L4 21.41c.39.39.9.59 1.41.59.51 0 1.02-.2 1.41-.59l7.78-7.78 2.81-2.81c.8-.78.8-2.07 0-2.86zM5.41 20L4 18.59l7.72-7.72 1.47 1.35L5.41 20z\"/>\n",
              "  </svg>\n",
              "      </button>\n",
              "      \n",
              "  <style>\n",
              "    .colab-df-container {\n",
              "      display:flex;\n",
              "      flex-wrap:wrap;\n",
              "      gap: 12px;\n",
              "    }\n",
              "\n",
              "    .colab-df-convert {\n",
              "      background-color: #E8F0FE;\n",
              "      border: none;\n",
              "      border-radius: 50%;\n",
              "      cursor: pointer;\n",
              "      display: none;\n",
              "      fill: #1967D2;\n",
              "      height: 32px;\n",
              "      padding: 0 0 0 0;\n",
              "      width: 32px;\n",
              "    }\n",
              "\n",
              "    .colab-df-convert:hover {\n",
              "      background-color: #E2EBFA;\n",
              "      box-shadow: 0px 1px 2px rgba(60, 64, 67, 0.3), 0px 1px 3px 1px rgba(60, 64, 67, 0.15);\n",
              "      fill: #174EA6;\n",
              "    }\n",
              "\n",
              "    [theme=dark] .colab-df-convert {\n",
              "      background-color: #3B4455;\n",
              "      fill: #D2E3FC;\n",
              "    }\n",
              "\n",
              "    [theme=dark] .colab-df-convert:hover {\n",
              "      background-color: #434B5C;\n",
              "      box-shadow: 0px 1px 3px 1px rgba(0, 0, 0, 0.15);\n",
              "      filter: drop-shadow(0px 1px 2px rgba(0, 0, 0, 0.3));\n",
              "      fill: #FFFFFF;\n",
              "    }\n",
              "  </style>\n",
              "\n",
              "      <script>\n",
              "        const buttonEl =\n",
              "          document.querySelector('#df-7dcc0d20-7da6-4f20-9c1d-3c40eb77786d button.colab-df-convert');\n",
              "        buttonEl.style.display =\n",
              "          google.colab.kernel.accessAllowed ? 'block' : 'none';\n",
              "\n",
              "        async function convertToInteractive(key) {\n",
              "          const element = document.querySelector('#df-7dcc0d20-7da6-4f20-9c1d-3c40eb77786d');\n",
              "          const dataTable =\n",
              "            await google.colab.kernel.invokeFunction('convertToInteractive',\n",
              "                                                     [key], {});\n",
              "          if (!dataTable) return;\n",
              "\n",
              "          const docLinkHtml = 'Like what you see? Visit the ' +\n",
              "            '<a target=\"_blank\" href=https://colab.research.google.com/notebooks/data_table.ipynb>data table notebook</a>'\n",
              "            + ' to learn more about interactive tables.';\n",
              "          element.innerHTML = '';\n",
              "          dataTable['output_type'] = 'display_data';\n",
              "          await google.colab.output.renderOutput(dataTable, element);\n",
              "          const docLink = document.createElement('div');\n",
              "          docLink.innerHTML = docLinkHtml;\n",
              "          element.appendChild(docLink);\n",
              "        }\n",
              "      </script>\n",
              "    </div>\n",
              "  </div>\n",
              "  "
            ]
          },
          "metadata": {},
          "execution_count": 120
        }
      ]
    },
    {
      "cell_type": "code",
      "source": [
        "#sns.set_theme(style=\"whitegrid\")"
      ],
      "metadata": {
        "id": "83K8Xn6Mklya"
      },
      "execution_count": 121,
      "outputs": []
    },
    {
      "cell_type": "code",
      "source": [
        "plt.grid()\n",
        "\n",
        "fig = sns.boxplot(x='model',y='corr',data=correlation,width=0.5)\n",
        "fig.set_ylabel(\"Correlation\")"
      ],
      "metadata": {
        "colab": {
          "base_uri": "https://localhost:8080/",
          "height": 302
        },
        "id": "6-fqDiSTknuj",
        "outputId": "993a128f-804f-4f2e-e8db-633b5674ffb0"
      },
      "execution_count": 122,
      "outputs": [
        {
          "output_type": "execute_result",
          "data": {
            "text/plain": [
              "Text(0, 0.5, 'Correlation')"
            ]
          },
          "metadata": {},
          "execution_count": 122
        },
        {
          "output_type": "display_data",
          "data": {
            "text/plain": [
              "<Figure size 432x288 with 1 Axes>"
            ],
            "image/png": "[encoded data removed]"
          },
          "metadata": {}
        }
      ]
    },
    {
      "cell_type": "code",
      "source": [
        "fig.get_figure().savefig('correlation.png')"
      ],
      "metadata": {
        "id": "hfVFJEBGoSZM"
      },
      "execution_count": 123,
      "outputs": []
    },
    {
      "cell_type": "markdown",
      "source": [
        "# MSE"
      ],
      "metadata": {
        "id": "tt2DyWsMlR0M"
      }
    },
    {
      "cell_type": "code",
      "source": [
        "mse = eval_metrics_cnn[['mse','model']]\n",
        "mse = mse.append(eval_metrics_bl[['mse','model']],ignore_index=True)\n",
        "mse = mse.append(eval_metrics_nf[['mse','model']],ignore_index=True)"
      ],
      "metadata": {
        "id": "rV1Dt_LRk7e-"
      },
      "execution_count": 124,
      "outputs": []
    },
    {
      "cell_type": "code",
      "source": [
        "plt.grid()\n",
        "fig = sns.boxplot(x='model',y='mse',data=mse,width=0.5)\n",
        "fig.set_ylabel(\"MSE\")\n"
      ],
      "metadata": {
        "colab": {
          "base_uri": "https://localhost:8080/",
          "height": 302
        },
        "id": "OwROh7BrlbgJ",
        "outputId": "9deaeef2-a638-45a2-e011-7d515f916c01"
      },
      "execution_count": 125,
      "outputs": [
        {
          "output_type": "execute_result",
          "data": {
            "text/plain": [
              "Text(0, 0.5, 'MSE')"
            ]
          },
          "metadata": {},
          "execution_count": 125
        },
        {
          "output_type": "display_data",
          "data": {
            "text/plain": [
              "<Figure size 432x288 with 1 Axes>"
            ],
            "image/png": "[encoded data removed]"
          },
          "metadata": {}
        }
      ]
    },
    {
      "cell_type": "code",
      "source": [
        "fig.get_figure().savefig('mse.png')"
      ],
      "metadata": {
        "id": "mDzH0CeSpCf8"
      },
      "execution_count": 126,
      "outputs": []
    },
    {
      "cell_type": "markdown",
      "source": [
        "# Bias mean"
      ],
      "metadata": {
        "id": "N985_18WmGt4"
      }
    },
    {
      "cell_type": "code",
      "source": [
        "bias_mean = eval_metrics_cnn[['bias_mean','model']]\n",
        "bias_mean = bias_mean.append(eval_metrics_bl[['bias_mean','model']],ignore_index=True)\n",
        "bias_mean = bias_mean.append(eval_metrics_nf[['bias_mean','model']],ignore_index=True)"
      ],
      "metadata": {
        "id": "GsBTLGRGldWl"
      },
      "execution_count": 127,
      "outputs": []
    },
    {
      "cell_type": "code",
      "source": [
        "plt.grid()\n",
        "plt.axhline(y=0.0,color='red',linestyle='-')\n",
        "fig = sns.boxplot(x='model',y='bias_mean',data=bias_mean,width=0.5)\n",
        "fig.set_ylabel('Bias (°C)')\n",
        "#plt.ylim(-1,15,0.1)"
      ],
      "metadata": {
        "colab": {
          "base_uri": "https://localhost:8080/",
          "height": 302
        },
        "id": "mUvikJgSmVNg",
        "outputId": "4d864126-b841-4657-fa82-6a5d92ae3646"
      },
      "execution_count": 128,
      "outputs": [
        {
          "output_type": "execute_result",
          "data": {
            "text/plain": [
              "Text(0, 0.5, 'Bias (°C)')"
            ]
          },
          "metadata": {},
          "execution_count": 128
        },
        {
          "output_type": "display_data",
          "data": {
            "text/plain": [
              "<Figure size 432x288 with 1 Axes>"
            ],
            "image/png": "[encoded data removed]"
          },
          "metadata": {}
        }
      ]
    },
    {
      "cell_type": "code",
      "source": [
        "fig.get_figure().savefig('bias_mean.png')"
      ],
      "metadata": {
        "id": "-hmbmSybpFdx"
      },
      "execution_count": 129,
      "outputs": []
    },
    {
      "cell_type": "markdown",
      "source": [
        "# Bias p02"
      ],
      "metadata": {
        "id": "HZI4JuTgmq4y"
      }
    },
    {
      "cell_type": "code",
      "source": [
        "bias_p02 = eval_metrics_cnn[['bias_p02','model']]\n",
        "bias_p02 = bias_p02.append(eval_metrics_bl[['bias_p02','model']],ignore_index=True)\n",
        "bias_p02 = bias_p02.append(eval_metrics_nf[['bias_p02','model']],ignore_index=True)"
      ],
      "metadata": {
        "id": "o0dTKV9YmWSo"
      },
      "execution_count": 130,
      "outputs": []
    },
    {
      "cell_type": "code",
      "source": [
        "plt.grid()\n",
        "plt.axhline(y=0.0,color='red',linestyle='-')\n",
        "fig = sns.boxplot(x='model',y='bias_p02',data=bias_p02,width=0.5)\n",
        "fig.set_ylabel('Bias P02(°C)')\n",
        "#plt.ylim(-1,15,0.1)"
      ],
      "metadata": {
        "colab": {
          "base_uri": "https://localhost:8080/",
          "height": 302
        },
        "id": "Q4W-y-l_m4FH",
        "outputId": "647d4bf9-60fb-4d1a-87df-cb9ba3ed8580"
      },
      "execution_count": 131,
      "outputs": [
        {
          "output_type": "execute_result",
          "data": {
            "text/plain": [
              "Text(0, 0.5, 'Bias P02(°C)')"
            ]
          },
          "metadata": {},
          "execution_count": 131
        },
        {
          "output_type": "display_data",
          "data": {
            "text/plain": [
              "<Figure size 432x288 with 1 Axes>"
            ],
            "image/png": "[encoded data removed]"
          },
          "metadata": {}
        }
      ]
    },
    {
      "cell_type": "code",
      "source": [
        "fig.get_figure().savefig('bias_p02.png')"
      ],
      "metadata": {
        "id": "1ihCRorMpI49"
      },
      "execution_count": 132,
      "outputs": []
    },
    {
      "cell_type": "markdown",
      "source": [
        "# Bias p98"
      ],
      "metadata": {
        "id": "eUlOUJWhnAnR"
      }
    },
    {
      "cell_type": "code",
      "source": [
        "bias_p98 = eval_metrics_cnn[['bias_p98','model']]\n",
        "bias_p98 = bias_p98.append(eval_metrics_bl[['bias_p98','model']],ignore_index=True)\n",
        "bias_p98 = bias_p98.append(eval_metrics_nf[['bias_p98','model']],ignore_index=True)"
      ],
      "metadata": {
        "id": "zP9VuG5jm-Lg"
      },
      "execution_count": 133,
      "outputs": []
    },
    {
      "cell_type": "code",
      "source": [
        "plt.grid()\n",
        "plt.axhline(y=0.0,color='red',linestyle='-')\n",
        "fig = sns.boxplot(x='model',y='bias_p98',data=bias_p98,width=0.5)\n",
        "fig.set_ylabel('Bias P98(°C)')"
      ],
      "metadata": {
        "colab": {
          "base_uri": "https://localhost:8080/",
          "height": 302
        },
        "id": "fvIkNPPmnOmo",
        "outputId": "80ab9bcf-113f-4003-c7f7-4c3ac771e8e8"
      },
      "execution_count": 134,
      "outputs": [
        {
          "output_type": "execute_result",
          "data": {
            "text/plain": [
              "Text(0, 0.5, 'Bias P98(°C)')"
            ]
          },
          "metadata": {},
          "execution_count": 134
        },
        {
          "output_type": "display_data",
          "data": {
            "text/plain": [
              "<Figure size 432x288 with 1 Axes>"
            ],
            "image/png": "[encoded data removed]"
          },
          "metadata": {}
        }
      ]
    },
    {
      "cell_type": "code",
      "source": [
        "fig.get_figure().savefig('bias_p98.png')"
      ],
      "metadata": {
        "id": "IhsNTrkKpMVL"
      },
      "execution_count": 135,
      "outputs": []
    },
    {
      "cell_type": "markdown",
      "source": [
        "# Stability"
      ],
      "metadata": {
        "id": "hPeJlAdsnY5h"
      }
    },
    {
      "cell_type": "code",
      "source": [
        "stability = eval_metrics_cnn[['stability','model']]\n",
        "stability = stability.append(eval_metrics_bl[['stability','model']],ignore_index=True)\n",
        "stability = stability.append(eval_metrics_nf[['stability','model']],ignore_index=True)"
      ],
      "metadata": {
        "id": "FNWwPX0mnWbX"
      },
      "execution_count": 136,
      "outputs": []
    },
    {
      "cell_type": "code",
      "source": [
        "plt.grid()\n",
        "plt.axhline(y=1.0,color='red',linestyle='-')\n",
        "fig = sns.boxplot(x='model',y='stability',data=stability,width=0.5)\n",
        "fig.set_ylabel('Stability')"
      ],
      "metadata": {
        "colab": {
          "base_uri": "https://localhost:8080/",
          "height": 302
        },
        "id": "-JjqYjZUnz4E",
        "outputId": "117bd551-e7ef-4f3f-e19f-0412af898036"
      },
      "execution_count": 137,
      "outputs": [
        {
          "output_type": "execute_result",
          "data": {
            "text/plain": [
              "Text(0, 0.5, 'Stability')"
            ]
          },
          "metadata": {},
          "execution_count": 137
        },
        {
          "output_type": "display_data",
          "data": {
            "text/plain": [
              "<Figure size 432x288 with 1 Axes>"
            ],
            "image/png": "[encoded data removed]"
          },
          "metadata": {}
        }
      ]
    },
    {
      "cell_type": "code",
      "source": [
        "fig.get_figure().savefig('stability.png')"
      ],
      "metadata": {
        "id": "Q6dtHs3Kn1RM"
      },
      "execution_count": 138,
      "outputs": []
    },
    {
      "cell_type": "code",
      "source": [
        ""
      ],
      "metadata": {
        "id": "wzQGJOm2pUlo"
      },
      "execution_count": null,
      "outputs": []
    }
  ]
}