{
  "nbformat": 4,
  "nbformat_minor": 0,
  "metadata": {
    "colab": {
      "name": "boxplot figures.ipynb",
      "provenance": []
    },
    "kernelspec": {
      "name": "python3",
      "display_name": "Python 3"
    },
    "language_info": {
      "name": "python"
    }
  },
  "cells": [
    {
      "cell_type": "code",
      "source": [
        "import pandas as pd\n",
        "import matplotlib.pyplot as plt\n",
        "import seaborn as sns"
      ],
      "metadata": {
        "id": "9rPiL7xLiORi"
      },
      "execution_count": null,
      "outputs": []
    },
    {
      "cell_type": "code",
      "source": [
        "plt.style.use('seaborn-pastel')\n",
        "sns.set_style('ticks')"
      ],
      "metadata": {
        "id": "JhMMhfecXzLi"
      },
      "execution_count": null,
      "outputs": []
    },
    {
      "cell_type": "code",
      "source": [
        "eval_metrics_cnn = pd.read_csv('/content/eval_metrics_cnn.csv') \n",
        "eval_metrics_bl =  pd.read_csv('/content/eval_metrics_bl.csv')\n",
        "eval_metrics_nf = pd.read_csv('/content/eval_metrics_nf.csv')"
      ],
      "metadata": {
        "id": "bXjhKlwJiXr9"
      },
      "execution_count": null,
      "outputs": []
    },
    {
      "cell_type": "code",
      "source": [
        "eval_metrics_cnn['model'] = 'CNN'\n",
        "eval_metrics_bl['model'] = 'Bilinear'\n",
        "eval_metrics_nf['model'] = 'Norm Flows'"
      ],
      "metadata": {
        "id": "1DvbC-VJjqhn"
      },
      "execution_count": null,
      "outputs": []
    },
    {
      "cell_type": "markdown",
      "source": [
        "# Correlation"
      ],
      "metadata": {
        "id": "ka1fp8GajwaO"
      }
    },
    {
      "cell_type": "code",
      "source": [
        "correlation = eval_metrics_cnn[['corr','model']]\n",
        "correlation = correlation.append(eval_metrics_bl[['corr','model']],ignore_index=True)\n",
        "correlation = correlation.append(eval_metrics_nf[['corr','model']],ignore_index=True)"
      ],
      "metadata": {
        "id": "mbml-n2VjxzH"
      },
      "execution_count": null,
      "outputs": []
    },
    {
      "cell_type": "code",
      "source": [
        "correlation"
      ],
      "metadata": {
        "colab": {
          "base_uri": "https://localhost:8080/",
          "height": 424
        },
        "id": "N-R0NDgAkkp8",
        "outputId": "4391f3c9-8e4b-49e0-cb49-9807b525e455"
      },
      "execution_count": null,
      "outputs": [
        {
          "output_type": "execute_result",
          "data": {
            "text/plain": [
              "          corr       model\n",
              "0     0.997362         CNN\n",
              "1     0.997352         CNN\n",
              "2     0.997423         CNN\n",
              "3     0.996944         CNN\n",
              "4     0.997154         CNN\n",
              "...        ...         ...\n",
              "4378  0.745391  Norm Flows\n",
              "4379  0.724897  Norm Flows\n",
              "4380  0.714283  Norm Flows\n",
              "4381  0.683188  Norm Flows\n",
              "4382  0.791743  Norm Flows\n",
              "\n",
              "[4383 rows x 2 columns]"
            ],
            "text/html": [
              "\n",
              "  <div id=\"df-bed7fbcf-b74c-4e81-861b-892e6297df4a\">\n",
              "    <div class=\"colab-df-container\">\n",
              "      <div>\n",
              "<style scoped>\n",
              "    .dataframe tbody tr th:only-of-type {\n",
              "        vertical-align: middle;\n",
              "    }\n",
              "\n",
              "    .dataframe tbody tr th {\n",
              "        vertical-align: top;\n",
              "    }\n",
              "\n",
              "    .dataframe thead th {\n",
              "        text-align: right;\n",
              "    }\n",
              "</style>\n",
              "<table border=\"1\" class=\"dataframe\">\n",
              "  <thead>\n",
              "    <tr style=\"text-align: right;\">\n",
              "      <th></th>\n",
              "      <th>corr</th>\n",
              "      <th>model</th>\n",
              "    </tr>\n",
              "  </thead>\n",
              "  <tbody>\n",
              "    <tr>\n",
              "      <th>0</th>\n",
              "      <td>0.997362</td>\n",
              "      <td>CNN</td>\n",
              "    </tr>\n",
              "    <tr>\n",
              "      <th>1</th>\n",
              "      <td>0.997352</td>\n",
              "      <td>CNN</td>\n",
              "    </tr>\n",
              "    <tr>\n",
              "      <th>2</th>\n",
              "      <td>0.997423</td>\n",
              "      <td>CNN</td>\n",
              "    </tr>\n",
              "    <tr>\n",
              "      <th>3</th>\n",
              "      <td>0.996944</td>\n",
              "      <td>CNN</td>\n",
              "    </tr>\n",
              "    <tr>\n",
              "      <th>4</th>\n",
              "      <td>0.997154</td>\n",
              "      <td>CNN</td>\n",
              "    </tr>\n",
              "    <tr>\n",
              "      <th>...</th>\n",
              "      <td>...</td>\n",
              "      <td>...</td>\n",
              "    </tr>\n",
              "    <tr>\n",
              "      <th>4378</th>\n",
              "      <td>0.745391</td>\n",
              "      <td>Norm Flows</td>\n",
              "    </tr>\n",
              "    <tr>\n",
              "      <th>4379</th>\n",
              "      <td>0.724897</td>\n",
              "      <td>Norm Flows</td>\n",
              "    </tr>\n",
              "    <tr>\n",
              "      <th>4380</th>\n",
              "      <td>0.714283</td>\n",
              "      <td>Norm Flows</td>\n",
              "    </tr>\n",
              "    <tr>\n",
              "      <th>4381</th>\n",
              "      <td>0.683188</td>\n",
              "      <td>Norm Flows</td>\n",
              "    </tr>\n",
              "    <tr>\n",
              "      <th>4382</th>\n",
              "      <td>0.791743</td>\n",
              "      <td>Norm Flows</td>\n",
              "    </tr>\n",
              "  </tbody>\n",
              "</table>\n",
              "<p>4383 rows × 2 columns</p>\n",
              "</div>\n",
              "      <button class=\"colab-df-convert\" onclick=\"convertToInteractive('df-bed7fbcf-b74c-4e81-861b-892e6297df4a')\"\n",
              "              title=\"Convert this dataframe to an interactive table.\"\n",
              "              style=\"display:none;\">\n",
              "        \n",
              "  <svg xmlns=\"http://www.w3.org/2000/svg\" height=\"24px\"viewBox=\"0 0 24 24\"\n",
              "       width=\"24px\">\n",
              "    <path d=\"M0 0h24v24H0V0z\" fill=\"none\"/>\n",
              "    <path d=\"M18.56 5.44l.94 2.06.94-2.06 2.06-.94-2.06-.94-.94-2.06-.94 2.06-2.06.94zm-11 1L8.5 8.5l.94-2.06 2.06-.94-2.06-.94L8.5 2.5l-.94 2.06-2.06.94zm10 10l.94 2.06.94-2.06 2.06-.94-2.06-.94-.94-2.06-.94 2.06-2.06.94z\"/><path d=\"M17.41 7.96l-1.37-1.37c-.4-.4-.92-.59-1.43-.59-.52 0-1.04.2-1.43.59L10.3 9.45l-7.72 7.72c-.78.78-.78 2.05 0 2.83L4 21.41c.39.39.9.59 1.41.59.51 0 1.02-.2 1.41-.59l7.78-7.78 2.81-2.81c.8-.78.8-2.07 0-2.86zM5.41 20L4 18.59l7.72-7.72 1.47 1.35L5.41 20z\"/>\n",
              "  </svg>\n",
              "      </button>\n",
              "      \n",
              "  <style>\n",
              "    .colab-df-container {\n",
              "      display:flex;\n",
              "      flex-wrap:wrap;\n",
              "      gap: 12px;\n",
              "    }\n",
              "\n",
              "    .colab-df-convert {\n",
              "      background-color: #E8F0FE;\n",
              "      border: none;\n",
              "      border-radius: 50%;\n",
              "      cursor: pointer;\n",
              "      display: none;\n",
              "      fill: #1967D2;\n",
              "      height: 32px;\n",
              "      padding: 0 0 0 0;\n",
              "      width: 32px;\n",
              "    }\n",
              "\n",
              "    .colab-df-convert:hover {\n",
              "      background-color: #E2EBFA;\n",
              "      box-shadow: 0px 1px 2px rgba(60, 64, 67, 0.3), 0px 1px 3px 1px rgba(60, 64, 67, 0.15);\n",
              "      fill: #174EA6;\n",
              "    }\n",
              "\n",
              "    [theme=dark] .colab-df-convert {\n",
              "      background-color: #3B4455;\n",
              "      fill: #D2E3FC;\n",
              "    }\n",
              "\n",
              "    [theme=dark] .colab-df-convert:hover {\n",
              "      background-color: #434B5C;\n",
              "      box-shadow: 0px 1px 3px 1px rgba(0, 0, 0, 0.15);\n",
              "      filter: drop-shadow(0px 1px 2px rgba(0, 0, 0, 0.3));\n",
              "      fill: #FFFFFF;\n",
              "    }\n",
              "  </style>\n",
              "\n",
              "      <script>\n",
              "        const buttonEl =\n",
              "          document.querySelector('#df-bed7fbcf-b74c-4e81-861b-892e6297df4a button.colab-df-convert');\n",
              "        buttonEl.style.display =\n",
              "          google.colab.kernel.accessAllowed ? 'block' : 'none';\n",
              "\n",
              "        async function convertToInteractive(key) {\n",
              "          const element = document.querySelector('#df-bed7fbcf-b74c-4e81-861b-892e6297df4a');\n",
              "          const dataTable =\n",
              "            await google.colab.kernel.invokeFunction('convertToInteractive',\n",
              "                                                     [key], {});\n",
              "          if (!dataTable) return;\n",
              "\n",
              "          const docLinkHtml = 'Like what you see? Visit the ' +\n",
              "            '<a target=\"_blank\" href=https://colab.research.google.com/notebooks/data_table.ipynb>data table notebook</a>'\n",
              "            + ' to learn more about interactive tables.';\n",
              "          element.innerHTML = '';\n",
              "          dataTable['output_type'] = 'display_data';\n",
              "          await google.colab.output.renderOutput(dataTable, element);\n",
              "          const docLink = document.createElement('div');\n",
              "          docLink.innerHTML = docLinkHtml;\n",
              "          element.appendChild(docLink);\n",
              "        }\n",
              "      </script>\n",
              "    </div>\n",
              "  </div>\n",
              "  "
            ]
          },
          "metadata": {},
          "execution_count": 6
        }
      ]
    },
    {
      "cell_type": "code",
      "source": [
        "sns.set_theme(style='darkgrid')"
      ],
      "metadata": {
        "id": "83K8Xn6Mklya"
      },
      "execution_count": null,
      "outputs": []
    },
    {
      "cell_type": "code",
      "source": [
        "fig = sns.boxplot(x='model',y='corr',data=correlation,width=0.7)"
      ],
      "metadata": {
        "colab": {
          "base_uri": "https://localhost:8080/",
          "height": 285
        },
        "id": "6-fqDiSTknuj",
        "outputId": "4411370c-d3e6-4979-d6dc-5c9eb0dce111"
      },
      "execution_count": null,
      "outputs": [
        {
          "output_type": "display_data",
          "data": {
            "text/plain": [
              "<Figure size 432x288 with 1 Axes>"
            ],
            "image/png": "[encoded data removed]"
          },
          "metadata": {}
        }
      ]
    },
    {
      "cell_type": "code",
      "source": [
        "fig.get_figure().savefig('correlation.png')"
      ],
      "metadata": {
        "id": "hfVFJEBGoSZM"
      },
      "execution_count": null,
      "outputs": []
    },
    {
      "cell_type": "markdown",
      "source": [
        "# MSE"
      ],
      "metadata": {
        "id": "tt2DyWsMlR0M"
      }
    },
    {
      "cell_type": "code",
      "source": [
        "mse = eval_metrics_cnn[['mse','model']]\n",
        "mse = mse.append(eval_metrics_bl[['mse','model']],ignore_index=True)\n",
        "mse = mse.append(eval_metrics_nf[['mse','model']],ignore_index=True)"
      ],
      "metadata": {
        "id": "rV1Dt_LRk7e-"
      },
      "execution_count": null,
      "outputs": []
    },
    {
      "cell_type": "code",
      "source": [
        "fig = sns.boxplot(x='model',y='mse',data=mse,width=0.5)\n",
        "#plt.ylim(-1,15,0.1)"
      ],
      "metadata": {
        "colab": {
          "base_uri": "https://localhost:8080/",
          "height": 285
        },
        "id": "OwROh7BrlbgJ",
        "outputId": "aed24984-6279-4539-d02b-6f6d6f3e7117"
      },
      "execution_count": null,
      "outputs": [
        {
          "output_type": "display_data",
          "data": {
            "text/plain": [
              "<Figure size 432x288 with 1 Axes>"
            ],
            "image/png": "[encoded data removed]"
          },
          "metadata": {}
        }
      ]
    },
    {
      "cell_type": "code",
      "source": [
        "fig.get_figure().savefig('mse.png')"
      ],
      "metadata": {
        "id": "mDzH0CeSpCf8"
      },
      "execution_count": null,
      "outputs": []
    },
    {
      "cell_type": "markdown",
      "source": [
        "# Bias mean"
      ],
      "metadata": {
        "id": "N985_18WmGt4"
      }
    },
    {
      "cell_type": "code",
      "source": [
        "bias_mean = eval_metrics_cnn[['bias_mean','model']]\n",
        "bias_mean = bias_mean.append(eval_metrics_bl[['bias_mean','model']],ignore_index=True)\n",
        "bias_mean = bias_mean.append(eval_metrics_nf[['bias_mean','model']],ignore_index=True)"
      ],
      "metadata": {
        "id": "GsBTLGRGldWl"
      },
      "execution_count": null,
      "outputs": []
    },
    {
      "cell_type": "code",
      "source": [
        "fig = sns.boxplot(x='model',y='bias_mean',data=bias_mean,width=0.5)\n",
        "#plt.ylim(-1,15,0.1)"
      ],
      "metadata": {
        "colab": {
          "base_uri": "https://localhost:8080/",
          "height": 285
        },
        "id": "mUvikJgSmVNg",
        "outputId": "a59d4aba-84b9-4ddb-cecc-3fb51f04f92a"
      },
      "execution_count": null,
      "outputs": [
        {
          "output_type": "display_data",
          "data": {
            "text/plain": [
              "<Figure size 432x288 with 1 Axes>"
            ],
            "image/png": "[encoded data removed]"
          },
          "metadata": {}
        }
      ]
    },
    {
      "cell_type": "code",
      "source": [
        "fig.get_figure().savefig('bias_mean.png')"
      ],
      "metadata": {
        "id": "-hmbmSybpFdx"
      },
      "execution_count": null,
      "outputs": []
    },
    {
      "cell_type": "markdown",
      "source": [
        "# Bias p02"
      ],
      "metadata": {
        "id": "HZI4JuTgmq4y"
      }
    },
    {
      "cell_type": "code",
      "source": [
        "bias_p02 = eval_metrics_cnn[['bias_p02','model']]\n",
        "bias_p02 = bias_p02.append(eval_metrics_bl[['bias_p02','model']],ignore_index=True)\n",
        "bias_p02 = bias_p02.append(eval_metrics_nf[['bias_p02','model']],ignore_index=True)"
      ],
      "metadata": {
        "id": "o0dTKV9YmWSo"
      },
      "execution_count": null,
      "outputs": []
    },
    {
      "cell_type": "code",
      "source": [
        "fig = sns.boxplot(x='model',y='bias_p02',data=bias_p02,width=0.5)\n",
        "#plt.ylim(-1,15,0.1)"
      ],
      "metadata": {
        "colab": {
          "base_uri": "https://localhost:8080/",
          "height": 285
        },
        "id": "Q4W-y-l_m4FH",
        "outputId": "572348d5-2ae0-47dd-a025-4bb3bb9cd550"
      },
      "execution_count": null,
      "outputs": [
        {
          "output_type": "display_data",
          "data": {
            "text/plain": [
              "<Figure size 432x288 with 1 Axes>"
            ],
            "image/png": "[encoded data removed]"
          },
          "metadata": {}
        }
      ]
    },
    {
      "cell_type": "code",
      "source": [
        "fig.get_figure().savefig('bias_p02.png')"
      ],
      "metadata": {
        "id": "1ihCRorMpI49"
      },
      "execution_count": null,
      "outputs": []
    },
    {
      "cell_type": "markdown",
      "source": [
        "# Bias p98"
      ],
      "metadata": {
        "id": "eUlOUJWhnAnR"
      }
    },
    {
      "cell_type": "code",
      "source": [
        "bias_p98 = eval_metrics_cnn[['bias_p98','model']]\n",
        "bias_p98 = bias_p98.append(eval_metrics_bl[['bias_p98','model']],ignore_index=True)\n",
        "bias_p98 = bias_p98.append(eval_metrics_nf[['bias_p98','model']],ignore_index=True)"
      ],
      "metadata": {
        "id": "zP9VuG5jm-Lg"
      },
      "execution_count": null,
      "outputs": []
    },
    {
      "cell_type": "code",
      "source": [
        "fig = sns.boxplot(x='model',y='bias_p98',data=bias_p98,width=0.5)"
      ],
      "metadata": {
        "colab": {
          "base_uri": "https://localhost:8080/",
          "height": 285
        },
        "id": "fvIkNPPmnOmo",
        "outputId": "e11cabb0-3518-43e3-bacb-aede6ede4665"
      },
      "execution_count": null,
      "outputs": [
        {
          "output_type": "display_data",
          "data": {
            "text/plain": [
              "<Figure size 432x288 with 1 Axes>"
            ],
            "image/png": "[encoded data removed]"
          },
          "metadata": {}
        }
      ]
    },
    {
      "cell_type": "code",
      "source": [
        "fig.get_figure().savefig('bias_p98.png')"
      ],
      "metadata": {
        "id": "IhsNTrkKpMVL"
      },
      "execution_count": null,
      "outputs": []
    },
    {
      "cell_type": "markdown",
      "source": [
        "# Stability"
      ],
      "metadata": {
        "id": "hPeJlAdsnY5h"
      }
    },
    {
      "cell_type": "code",
      "source": [
        "stability = eval_metrics_cnn[['stability','model']]\n",
        "stability = stability.append(eval_metrics_bl[['stability','model']],ignore_index=True)\n",
        "stability = stability.append(eval_metrics_nf[['stability','model']],ignore_index=True)"
      ],
      "metadata": {
        "id": "FNWwPX0mnWbX"
      },
      "execution_count": null,
      "outputs": []
    },
    {
      "cell_type": "code",
      "source": [
        "fig = sns.boxplot(x='model',y='stability',data=stability,width=0.5)"
      ],
      "metadata": {
        "colab": {
          "base_uri": "https://localhost:8080/",
          "height": 285
        },
        "id": "-JjqYjZUnz4E",
        "outputId": "85c95396-67be-4282-a30b-294244956be1"
      },
      "execution_count": null,
      "outputs": [
        {
          "output_type": "display_data",
          "data": {
            "text/plain": [
              "<Figure size 432x288 with 1 Axes>"
            ],
            "image/png": "[encoded data removed]"
          },
          "metadata": {}
        }
      ]
    },
    {
      "cell_type": "code",
      "source": [
        "fig.get_figure().savefig('stability.png')"
      ],
      "metadata": {
        "id": "Q6dtHs3Kn1RM"
      },
      "execution_count": null,
      "outputs": []
    },
    {
      "cell_type": "code",
      "source": [
        ""
      ],
      "metadata": {
        "id": "wzQGJOm2pUlo"
      },
      "execution_count": null,
      "outputs": []
    }
  ]
}